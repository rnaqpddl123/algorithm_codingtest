{
 "cells": [
  {
   "cell_type": "markdown",
   "metadata": {},
   "source": [
    "# 문제 설명\n",
    "\n",
    "- 트럭 여러 대가 강을 가로지르는 일차선 다리를 정해진 순으로 건너려 합니다. 모든 트럭이 다리를 건너려면 최소 몇 초가 걸리는지 알아내야 합니다. 다리에는 트럭이 최대 bridge_length대 올라갈 수 있으며, 다리는 weight 이하까지의 무게를 견딜 수 있습니다. 단, 다리에 완전히 오르지 않은 트럭의 무게는 무시합니다.\n",
    "\n",
    "- 예를 들어, 트럭 2대가 올라갈 수 있고 무게를 10kg까지 견디는 다리가 있습니다. 무게가 [7, 4, 5, 6]kg인 트럭이 순서대로 최단 시간 안에 다리를 건너려면 다음과 같이 건너야 합니다.\n",
    "\n",
    "|경과 시간\t|다리를 지난 트럭|\t다리를 건너는 트럭\t|대기 트럭|\n",
    "|:---|:---|:---|:---|\n",
    "|0\t|[]|\t[]\t|[7,4,5,6]|\n",
    "|1~2|\t[]\t|[7]\t|[4,5,6]|\n",
    "|3|\t[7]|\t[4]\t|[5,6]|\n",
    "|4\t|[7]|\t[4,5]\t|[6]|\n",
    "|5\t|[7,4]|\t[5]\t|[6]|\n",
    "|6~7\t|[7,4,5]\t|[6]\t|[]|\n",
    "|8\t|[7,4,5,6]|\t[]|\t[]|\n",
    "- 따라서, 모든 트럭이 다리를 지나려면 최소 8초가 걸립니다.\n",
    "\n",
    "- solution 함수의 매개변수로 다리에 올라갈 수 있는 트럭 수 bridge_length, 다리가 견딜 수 있는 무게 weight, 트럭 별 무게 truck_weights가 주어집니다. 이때 모든 트럭이 다리를 건너려면 최소 몇 초가 걸리는지 return 하도록 solution 함수를 완성하세요.\n",
    "\n",
    "- 제한 조건\n",
    "- bridge_length는 1 이상 10,000 이하입니다.\n",
    "- weight는 1 이상 10,000 이하입니다.\n",
    "- truck_weights의 길이는 1 이상 10,000 이하입니다.\n",
    "- 모든 트럭의 무게는 1 이상 weight 이하입니다.\n",
    "- 입출력 예\n",
    "\n",
    "|bridge_length|weight|truck_weights|return|\n",
    "|:---|:---|:---|:---|\n",
    "|2|10|[7,4,5,6]|8|\n",
    "|100\t|100\t|[10]|101|\n",
    "|100\t|100\t|[10,10,10,10,10,10,10,10,10,10]\t|110|\n",
    "\n",
    "\n",
    "\n",
    "※ 공지 - 2020년 4월 06일 테스트케이스가 추가되었습니다.\n",
    "- 출처 https://programmers.co.kr/learn/courses/30/lessons/42583\n"
   ]
  },
  {
   "cell_type": "code",
   "execution_count": 2,
   "metadata": {},
   "outputs": [],
   "source": [
    "# 처음 풀어본문제 코딩테스트결과 42.9점받음\n",
    "# 속도가 너무느려서 점수가 낮게 나온것같음\n",
    "\n",
    "truck_weights = [7,4,5,6]  #트럭들의 무게\n",
    "bridge_length = 2  #다리의 길이\n",
    "weight = 10   #다리의 허용무게\n",
    "# return = 8  #나와야되는 리턴값(걸리는 시간) answer 대신에 time를 사용함\n",
    "\n",
    "def solution(bridge_length, weight, truck_weights):\n",
    "    time = 0      # 시간\n",
    "    passing_truck = []  # 다리위에 있는 트럭\n",
    "    arrived_truck = []  # 다리를 건넌 트럭\n",
    "    now_weight = 0   # 현재 다리위에있는 트럭들의 무게\n",
    "    a = 0            # truck_weights.pop(0)값을 저장하기위한 변수\n",
    "    b = 0            # passing_truck.pop(0)값을 저장하기위한 변수\n",
    "    initial_num = len(truck_weights) #처음 트럭의 개수 저장\n",
    "    \n",
    "    while len(arrived_truck) != initial_num: #통과한 트럭의 개수가 트럭수와 같을때까지        \n",
    "        \n",
    "        time +=1 #시간경과를 표시하기위해\n",
    "        \n",
    "        if time == 1: # 처음 시작할때 \n",
    "            a = truck_weights.pop(0)\n",
    "            passing_truck.append([a,time])  # 출발 대기죽인 트럭을 passig_truck으로 추가시킴\n",
    "            now_weight += a\n",
    "            \n",
    "        if (time - passing_truck[0][1]) == bridge_length: #제일 앞에있는 트럭이 다리를 통과할때\n",
    "            b = passing_truck.pop(0)     # 다리위에있는 트럭데이터를 도착한트럭쪽으로 옮겨주기위해 데이터 pop밑저장\n",
    "            arrived_truck.append(b[0])   # 도착한 트럭에 데이터 추가\n",
    "            now_weight -= b[0]           # 앞에 트럭이 도착했으니 다리무게 빼줌        \n",
    "        \n",
    "        \n",
    "        \n",
    "        if len(truck_weights) != 0: # 대기중인 트럭이 남아있을때\n",
    "            if weight >= now_weight+truck_weights[0]:  # 허용 무게가 현재 무게 + 출발 대기중인 트럭보다 크다면\n",
    "                a = truck_weights.pop(0)                \n",
    "                passing_truck.append([a,time])  # 출발 대기죽인 트럭을 passig_truck으로 추가시킴\n",
    "                now_weight += a # 현재 다리에걸리는 하중을 건너고있는 트럭많킄 더해주기위해서\n",
    "                   \n",
    "            \n",
    "        \n",
    "        #print(\"경과시간 %d 다리를 지난트럭 %s 다리를 지나고있는 트럭과 건너기 시작한 시간%s 대기 트럭 %s\"\n",
    "         #     % (time,arrived_truck,passing_truck,truck_weights))  # 타이밍 확인용\n",
    "        \n",
    "                        \n",
    "       \n",
    "    return time\n"
   ]
  },
  {
   "cell_type": "code",
   "execution_count": 3,
   "metadata": {},
   "outputs": [
    {
     "name": "stdout",
     "output_type": "stream",
     "text": [
      "8\n"
     ]
    }
   ],
   "source": [
    "print(solution(bridge_length, weight, truck_weights))"
   ]
  },
  {
   "cell_type": "code",
   "execution_count": null,
   "metadata": {},
   "outputs": [],
   "source": []
  },
  {
   "cell_type": "code",
   "execution_count": 4,
   "metadata": {},
   "outputs": [
    {
     "name": "stdout",
     "output_type": "stream",
     "text": [
      "8\n"
     ]
    }
   ],
   "source": [
    "#다른사람의 풀이\n",
    "#reverse와 deque를 사용해서 속도를 올림\n",
    "\n",
    "truck_weights = [7,4,5,6] \n",
    "bridge_length = 2  \n",
    "weight = 10 \n",
    "\n",
    "\n",
    "from collections import deque # 데크는 양 끝 엘리먼트의 append와 pop이 압도적으로 빨라서 사용\n",
    "\n",
    "def solution(bridge_length, weight, truck_weights):\n",
    "    bridge = deque(0 for _ in range(bridge_length))# 초기값 = deque([0, 0]) 다리길이 개수만큼\n",
    "    total_weight = 0 \n",
    "    step = 0\n",
    "    truck_weights.reverse() #[6,5,4,7 형태로 뒤집음]\n",
    "\n",
    "    while truck_weights:\n",
    "        total_weight -= bridge.popleft()  # 다리위에 무게에서 이번에 나갈 무게를 뺴주겠다\n",
    "        if total_weight + truck_weights[-1] > weight: # 다리위무게 + 대기중인무게가 허용무게보다 무겁다면\n",
    "            bridge.append(0)                          # bridge의 0추가\n",
    "        else:   # 다리위에 하나 추가로 지나갈 수 있다면\n",
    "            truck = truck_weights.pop()  # truc = 대기트럭에서 가장먼저나올것을 뺸값\n",
    "            bridge.append(truck)     # 브릿지에 트럭추가\n",
    "            total_weight += truck    # 다리에 걸리는 부하에 트럭무게 추가\n",
    "        step += 1 #시간단위체크하기위해서\n",
    "\n",
    "    step += bridge_length #위에 while문은 최종출발자가 출발할때까지만 체크하므로 다리길이를 마지막에 더해줌\n",
    "\n",
    "    return step\n",
    "\n",
    "print(solution(bridge_length, weight, truck_weights))"
   ]
  },
  {
   "cell_type": "code",
   "execution_count": null,
   "metadata": {},
   "outputs": [],
   "source": []
  }
 ],
 "metadata": {
  "kernelspec": {
   "display_name": "Python 3",
   "language": "python",
   "name": "python3"
  },
  "language_info": {
   "codemirror_mode": {
    "name": "ipython",
    "version": 3
   },
   "file_extension": ".py",
   "mimetype": "text/x-python",
   "name": "python",
   "nbconvert_exporter": "python",
   "pygments_lexer": "ipython3",
   "version": "3.8.5"
  }
 },
 "nbformat": 4,
 "nbformat_minor": 4
}
