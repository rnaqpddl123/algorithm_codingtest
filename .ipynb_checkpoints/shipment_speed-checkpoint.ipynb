{
 "cells": [
  {
   "cell_type": "markdown",
   "metadata": {},
   "source": [
    "문제 설명\n",
    "\n",
    "프로그래머스 팀에서는 기능 개선 작업을 수행 중입니다. 각 기능은 진도가 100%일 때 서비스에 반영할 수 있습니다.\n",
    "\n",
    "또, 각 기능의 개발속도는 모두 다르기 때문에 뒤에 있는 기능이 앞에 있는 기능보다 먼저 개발될 수 있고, 이때 뒤에 있는 기능은 앞에 있는 기능이 배포될 때 함께 배포됩니다.\n",
    "\n",
    "먼저 배포되어야 하는 순서대로 작업의 진도가 적힌 정수 배열 progresses와 각 작업의 개발 속도가 적힌 정수 배열 speeds가 주어질 때 각 배포마다 몇 개의 기능이 배포되는지를 return 하도록 solution 함수를 완성하세요.\n",
    "\n",
    "제한 사항\n",
    "\n",
    "작업의 개수(progresses, speeds배열의 길이)는 100개 이하입니다.\n",
    "작업 진도는 100 미만의 자연수입니다.\n",
    "작업 속도는 100 이하의 자연수입니다.\n",
    "배포는 하루에 한 번만 할 수 있으며, 하루의 끝에 이루어진다고 가정합니다. 예를 들어 진도율이 95%인 작업의 개발 속도가 하루에 4%라면 배포는 2일 뒤에 이루어집니다.\n",
    "\n",
    "입출력 예\n",
    "\n",
    "progresses\tspeeds\treturn\n",
    "\n",
    "[93, 30, 55]\t[1, 30, 5]\t[2, 1]\n",
    "\n",
    "[95, 90, 99, 99, 80, 99]\t[1, 1, 1, 1, 1, 1]\t[1, 3, 2]\n",
    "\n",
    "입출력 예 설명\n",
    "\n",
    "입출력 예 #1\n",
    "\n",
    "첫 번째 기능은 93% 완료되어 있고 하루에 1%씩 작업이 가능하므로 7일간 작업 후 배포가 가능합니다.\n",
    "두 번째 기능은 30%가 완료되어 있고 하루에 30%씩 작업이 가능하므로 3일간 작업 후 배포가 가능합니다. 하지만 이전 첫 번째 기능이 아직 완성된 상태가 아니기 때문에 첫 번째 기능이 배포되는 7일째 배포됩니다.\n",
    "세 번째 기능은 55%가 완료되어 있고 하루에 5%씩 작업이 가능하므로 9일간 작업 후 배포가 가능합니다.\n",
    "\n",
    "따라서 7일째에 2개의 기능, 9일째에 1개의 기능이 배포됩니다.\n",
    "\n",
    "입출력 예 #2\n",
    "\n",
    "모든 기능이 하루에 1%씩 작업이 가능하므로, 작업이 끝나기까지 남은 일수는 각각 5일, 10일, 1일, 1일, 20일, 1일입니다. 어떤 기능이 먼저 완성되었더라도 앞에 있는 모든 기능이 완성되지 않으면 배포가 불가능합니다.\n",
    "\n",
    "따라서 5일째에 1개의 기능, 10일째에 3개의 기능, 20일째에 2개의 기능이 배포됩니다.\n",
    "\n",
    "※ 공지 - 2020년 7월 14일 테스트케이스가 추가되었습니다.\n",
    "\n",
    "- 출처 https://programmers.co.kr/learn/courses/30/lessons/42586"
   ]
  },
  {
   "cell_type": "code",
   "execution_count": 180,
   "metadata": {},
   "outputs": [
    {
     "name": "stdout",
     "output_type": "stream",
     "text": [
      "[93, 30, 55, 70, 30, 20]\n",
      "[1, 30, 5, 8, 5, 10]\n",
      "[2, 2, 2]\n"
     ]
    }
   ],
   "source": [
    "#모범답안1 분석\n",
    "\n",
    "progresses = [93,30,55]\n",
    "speeds = [1,30,5]\n",
    "\n",
    "#progresses = [93,30,55,70,30,20]\n",
    "#speeds = [1,30,5,8,5,10]\n",
    "\n",
    "def solution(progresses, speeds):\n",
    "    print(progresses)\n",
    "    print(speeds)\n",
    "    answer = []\n",
    "    time = 0\n",
    "    count = 0\n",
    "    while len(progresses)> 0:  #progresses의 데이터를 전부 pop하기전까지 반복\n",
    "        if (progresses[0] + time*speeds[0]) >= 100:\n",
    "            progresses.pop(0) #progresses의 첫번째 데이터 pop하고\n",
    "            speeds.pop(0)     #speeds의 첫번째 데이터 pop\n",
    "            count += 1 \n",
    "        else: # progresses[0] + time*speeds[0]가 100 미만인경우\n",
    "            if count > 0: #위에 if문을 앞에서 몇번 반복하다가왔을때\n",
    "                answer.append(count)\n",
    "                count = 0 #카운트 초기화\n",
    "            time += 1   # count = 0 일때 즉 위에 progresses[0] + time*speeds[0]가 100이 안되는 경우\n",
    "                        # progresses[0] + time*speeds[0]에서 time을 올리기위해서\n",
    "    \n",
    "    answer.append(count) # 마지막 count값을 더하기위해 while문 빠져 나오고 한줄추가\n",
    "    \n",
    "    return answer\n",
    "\n",
    "print(solution(progresses,speeds))\n"
   ]
  },
  {
   "cell_type": "code",
   "execution_count": 88,
   "metadata": {},
   "outputs": [
    {
     "name": "stdout",
     "output_type": "stream",
     "text": [
      "[2, 1]\n"
     ]
    }
   ],
   "source": [
    "#모범답안2 분석\n",
    "progresses = [93,30,55]\n",
    "speeds = [1,30,5]\n",
    "\n",
    "#progresses = [93,30,55,70,30,20]\n",
    "#speeds = [1,30,5,8,5,10]\n",
    "\n",
    "def solution(progresses, speeds):\n",
    "    Q=[]\n",
    "    for p, s in zip(progresses, speeds):         # p 93,30,55순으로 s는 1, 30, 5순으로\n",
    "        if len(Q)==0 or Q[-1][0]<-((p-100)//s): # 시작부분 or (전번째께 걸리는시간이 이번것보다 작다면)\n",
    "            Q.append([-((p-100)//s),1])         # Q에 새로운 리스트 추가 \n",
    "        else:    #전번째것보다 다음것이 더 빨리 끝날경우\n",
    "            Q[-1][1]+=1                         # Q의 마지막 append리스트의 두번쨰 값을 +1\n",
    "    return [q[1] for q in Q]                    # Q의 두번쨰 값만 뺴서 리스트로 정리\n",
    "\n",
    "print(solution(progresses,speeds))\n",
    "\n"
   ]
  },
  {
   "cell_type": "code",
   "execution_count": 182,
   "metadata": {},
   "outputs": [
    {
     "name": "stdout",
     "output_type": "stream",
     "text": [
      "7일뒤에 2개 만큼 배포합니다\n",
      "9일뒤에 1개 만큼 배포합니다\n",
      "[2, 1]\n",
      "[93, 30, 55] [1, 30, 5]\n"
     ]
    }
   ],
   "source": [
    "#모범답안2에서 원하는 값출력하기위해서 살짝 손봤음\n",
    "progresses = [93,30,55]\n",
    "speeds = [1,30,5]\n",
    "\n",
    "def solution(progresses, speeds):\n",
    "    Q=[]\n",
    "    for p, s in zip(progresses, speeds):         \n",
    "        if len(Q)==0 or Q[-1][0]<-((p-100)//s): \n",
    "            Q.append([-((p-100)//s),1])        \n",
    "        else:    \n",
    "            Q[-1][1]+=1                         \n",
    "    day_number, product_number = zip(*Q)\n",
    "    for i in range(len(day_number)):\n",
    "        print(\"%d일뒤에 %d개 만큼 배포합니다\" % (day_number[i], product_number[i]))\n",
    "    \n",
    "    \n",
    "    return [q[1] for q in Q]   \n",
    "    \n",
    "print(solution(progresses,speeds))"
   ]
  },
  {
   "cell_type": "code",
   "execution_count": null,
   "metadata": {},
   "outputs": [],
   "source": []
  },
  {
   "cell_type": "code",
   "execution_count": 183,
   "metadata": {},
   "outputs": [
    {
     "name": "stdout",
     "output_type": "stream",
     "text": [
      "[2, 1]\n"
     ]
    }
   ],
   "source": [
    "# 만들다가 위에 모범답안들을 보고 완성시킨것\n",
    "# 처음 설계를 좋게하지못해서 깔끔하지않고 길어짐\n",
    "\n",
    "progresses = [93,30,55]\n",
    "speeds = [1,30,5]\n",
    "\n",
    "#progresses = [93,30,55,70,30,20]\n",
    "#speeds = [1,30,5,8,5,10]\n",
    "\n",
    "def solution(progresses,speeds):\n",
    "    day = []\n",
    "    answer = [0]\n",
    "        \n",
    "    for i in range(len(progresses)):\n",
    "        count = 0\n",
    "        while progresses[i] < 100:\n",
    "            progresses[i] = progresses[i] + speeds[i]\n",
    "            count += 1      # 완성시키는데 몇일걸리는지 세기위한 count\n",
    "            \n",
    "        if len(day) == 0 or day[-1] > count:   # 완성된일수가 이전상품의 완성일수보다 빨리 만들었을경우\n",
    "            day.append(count)\n",
    "            answer[-1] +=1\n",
    "            \n",
    "        else:             # 완성된일수가 이전상품의 완성일수보다 느리게 만들었을경우\n",
    "            day.append(count)\n",
    "            answer.append(1)        \n",
    "     \n",
    "    return answer\n",
    "\n",
    "print(solution(progresses,speeds))"
   ]
  },
  {
   "cell_type": "code",
   "execution_count": 189,
   "metadata": {},
   "outputs": [
    {
     "name": "stdout",
     "output_type": "stream",
     "text": [
      "7일뒤에 2개만큼 상품이 나갑니다\n",
      "9일뒤에 1개만큼 상품이 나갑니다\n",
      "([7, 9], [2, 1])\n",
      "[100, 120, 100]\n"
     ]
    }
   ],
   "source": [
    "# 만들다가 위에 모범답안들을 보고 완성시킨것\n",
    "# 처음 설계를 좋게하지못해서 깔끔하지않고 길어짐\n",
    "# 데이터를 건드는 방식이기도해서 안좋은것 같음\n",
    "# day는 몇일뒤에 나가는지도 알고싶어서 넣었음\n",
    "# 문제풀이를 위해서만이면 day를 제거해도됨\n",
    "progresses = [93,30,55]\n",
    "speeds = [1,30,5]\n",
    "\n",
    "#progresses = [95, 90, 99, 99, 80, 99]\n",
    "#speeds = [1,1,1,1,1,1]\n",
    "def solution(progresses,speeds):\n",
    "    day = []\n",
    "    answer = []\n",
    "        \n",
    "    for i in range(len(progresses)):\n",
    "        count = 0\n",
    "        while progresses[i] < 100:\n",
    "            progresses[i] = progresses[i] + speeds[i]\n",
    "            count += 1      # 완성시키는데 몇일걸리는지 세기위한 count\n",
    "            \n",
    "        if len(day) == 0 or day[-1] < count:   # 첫 상품일때랑 완성된일수가 이전상품의 완성일수보다 느리게 만들었을경우\n",
    "            day.append(count)                  # day값의 새로운 카운트 값을 더해주고\n",
    "            answer.append(1)                   # 새로운날짜에 나가는값 1추가\n",
    "             \n",
    "        else:             # 완성된일수가 이전상품의 완성일수보다 빨리 만들었을경우\n",
    "            answer[-1] +=1        #하루에 나가는 개수에 1만큼 더해줌\n",
    "            \n",
    "    for i in range(len(day)):\n",
    "        print(\"%d일뒤에 %d개만큼 상품이 나갑니다\" % (day[i],answer[i]))\n",
    "     \n",
    "    return day,answer\n",
    "\n",
    "print(solution(progresses,speeds))\n",
    "print(progresses)"
   ]
  },
  {
   "cell_type": "code",
   "execution_count": null,
   "metadata": {},
   "outputs": [],
   "source": []
  }
 ],
 "metadata": {
  "kernelspec": {
   "display_name": "Python 3",
   "language": "python",
   "name": "python3"
  },
  "language_info": {
   "codemirror_mode": {
    "name": "ipython",
    "version": 3
   },
   "file_extension": ".py",
   "mimetype": "text/x-python",
   "name": "python",
   "nbconvert_exporter": "python",
   "pygments_lexer": "ipython3",
   "version": "3.8.5"
  }
 },
 "nbformat": 4,
 "nbformat_minor": 4
}
