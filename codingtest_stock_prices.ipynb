{
 "cells": [
  {
   "cell_type": "markdown",
   "metadata": {},
   "source": [
    "문제 이름 : 주식가격\n",
    "\n",
    "문제 설명\n",
    "\n",
    "초 단위로 기록된 주식가격이 담긴 배열 prices가 매개변수로 주어질 때\n",
    "\n",
    "가격이 떨어지지 않은 기간은 몇 초인지를 return 하도록 solution 함수를 완성하세요.\n",
    "\n",
    "제한사항\n",
    "prices의 각 가격은 1 이상 10,000 이하인 자연수입니다.\n",
    "prices의 길이는 2 이상 100,000 이하입니다.\n",
    "\n",
    "입출력 예\n",
    "- prices\treturn\n",
    "[1, 2, 3, 2, 3]\t[4, 3, 1, 1, 0]\n",
    "\n",
    "입출력 예 설명\n",
    "- 1초 시점의 ₩1은 끝까지 가격이 떨어지지 않았습니다.\n",
    "- 2초 시점의 ₩2은 끝까지 가격이 떨어지지 않았습니다.\n",
    "- 3초 시점의 ₩3은 1초뒤에 가격이 떨어집니다. 따라서 1초간 가격이 떨어지지 않은 것으로 봅니다.\n",
    "- 4초 시점의 ₩2은 1초간 가격이 떨어지지 않았습니다.\n",
    "- 5초 시점의 ₩3은 0초간 가격이 떨어지지 않았습니다.\n",
    "- ※ 공지 - 2019년 2월 28일 지문이 리뉴얼되었습니다.\n",
    "\n",
    "출처 https://programmers.co.kr/learn/courses/30/lessons/42584"
   ]
  },
  {
   "cell_type": "code",
   "execution_count": 1,
   "metadata": {},
   "outputs": [],
   "source": [
    "def solution(prices):\n",
    "    answer = []  #answer에 데이터타입설정, 빈리스트생성\n",
    "\n",
    "    for i in range(0, len(prices)-1):\n",
    "        fin = False     #첫번째 if문에 해당하는게 없을수 있기때문에 설정해둔값\n",
    "    \n",
    "        # 여기서 i는 현재 시점을 설정해둔것이고 (0초시점,1초시점...)\n",
    "        # j는 j초 뒤에 시점을 말하는것(1초 뒤 시점, 2초 뒤 시점..)\n",
    "        for j in range(i+1, len(prices)):  \n",
    "            if prices[i] > prices[j]:  #i시점의 가격이 j시점의 가격보다 높다면 \n",
    "                answer.append(j-i)     #answer에 (몇초뒤인지 push해줌)\n",
    "                fin = True             #아래의 if 문이 돌아가면 안되기때문에 fin값을 바꿔줌\n",
    "                break                  #한번만 작동해야하므로 break를 걸어서 if문을 빠져나감\n",
    "        if fin == False:               #위에 if문이 작동하지 않았을경우\n",
    "            answer.append(len(prices)-i-1)  # answer에 다른값을추가해줌\n",
    "        \n",
    "    answer.append(0)   #위에 식을 반복하면 answer의 길이는 prices의 길이보다 하나짧게 되는데 그것을 보충하기위해 추가로 값을 하나 넣어줌\n",
    "\n",
    "    return answer \n",
    "\n",
    "#문제가 이해가되지않아서 완성된코드를 분석하기만함"
   ]
  },
  {
   "cell_type": "code",
   "execution_count": 2,
   "metadata": {},
   "outputs": [
    {
     "name": "stdout",
     "output_type": "stream",
     "text": [
      "[4, 3, 1, 1, 0]\n"
     ]
    }
   ],
   "source": [
    "prices = [1,2,3,2,3]\n",
    "print(solution(prices))"
   ]
  },
  {
   "cell_type": "code",
   "execution_count": null,
   "metadata": {},
   "outputs": [],
   "source": []
  }
 ],
 "metadata": {
  "kernelspec": {
   "display_name": "Python 3",
   "language": "python",
   "name": "python3"
  },
  "language_info": {
   "codemirror_mode": {
    "name": "ipython",
    "version": 3
   },
   "file_extension": ".py",
   "mimetype": "text/x-python",
   "name": "python",
   "nbconvert_exporter": "python",
   "pygments_lexer": "ipython3",
   "version": "3.8.5"
  }
 },
 "nbformat": 4,
 "nbformat_minor": 4
}
